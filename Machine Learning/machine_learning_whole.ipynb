{
 "cells": [
  {
   "cell_type": "code",
   "execution_count": 1,
   "metadata": {},
   "outputs": [],
   "source": [
    "from sklearn.model_selection import KFold, cross_val_predict\n",
    "from itertools import combinations\n",
    "import pandas as pd\n",
    "import numpy as np\n",
    "from sklearn.linear_model import Ridge\n",
    "from sklearn.ensemble import HistGradientBoostingRegressor\n",
    "from sklearn.metrics import r2_score, mean_absolute_error\n",
    "from sklearn.preprocessing import OneHotEncoder\n",
    "import time\n",
    "import pickle\n",
    "import warnings\n",
    "warnings.filterwarnings('ignore')\n",
    "\n"
   ]
  },
  {
   "cell_type": "code",
   "execution_count": 2,
   "metadata": {},
   "outputs": [],
   "source": [
    "#load data\n",
    "with open('../Features/Fingerprints/fingerprints_df_grouped.pickle', 'rb') as f:\n",
    "    fingerprints = pickle.load(f)\n",
    "\n",
    "with open('../Data/processed/clean_df_grouped.pkl', 'rb') as f:\n",
    "    df = pickle.load(f)\n",
    "\n",
    "    \n",
    "df.reset_index(drop=True, inplace=True)"
   ]
  },
  {
   "cell_type": "code",
   "execution_count": 3,
   "metadata": {},
   "outputs": [],
   "source": [
    "with open('fingerprint_results.pickle', 'rb') as f:\n",
    "    fingerprint_results = pickle.load(f)\n"
   ]
  },
  {
   "cell_type": "code",
   "execution_count": 4,
   "metadata": {},
   "outputs": [
    {
     "data": {
      "text/plain": [
       "dict_keys(['ankh_base_embedding', 'atompair', 'atompair-count', 'avalon', 'avalon-count', 'binary profile of physicochemical property', 'ecfp', 'ecfp-count', 'erg', 'estate', 'fcfp', 'fcfp-count', 'layered', 'maccs', 'map4', 'mean_embeddings_large', 'one-hot-encoded-sequence', 'pattern', 'peptide_descriptors', 'rdkit', 'rdkit-count', 'secfp', 'topological', 'topological-count'])"
      ]
     },
     "execution_count": 4,
     "metadata": {},
     "output_type": "execute_result"
    }
   ],
   "source": [
    "fingerprints = dict(sorted(fingerprints.items()))\n",
    "fingerprints.keys()"
   ]
  },
  {
   "cell_type": "code",
   "execution_count": 5,
   "metadata": {},
   "outputs": [],
   "source": [
    "fingerprints_filtered = {\n",
    "    'erg': fingerprints['erg'],\n",
    "    'atompair-count': fingerprints['atompair-count'],\n",
    "    'ankh_base_embedding': fingerprints['ankh_base_embedding'],\n",
    "}\n",
    "fingerprints_filtered = fingerprints \n",
    "variants = ['GpTx-1', 'Protoxin II', 'JzTx-V', 'Huwentoxin-IV']\n"
   ]
  },
  {
   "cell_type": "code",
   "execution_count": 10,
   "metadata": {},
   "outputs": [
    {
     "name": "stdout",
     "output_type": "stream",
     "text": [
      "Training HistGradientBoostingRegressor model for erg\n",
      "Finished training model for erg. Time taken: 3.3010239601135254 seconds\n",
      "Training HistGradientBoostingRegressor model for atompair-count\n",
      "Finished training model for atompair-count. Time taken: 21.775076150894165 seconds\n",
      "Training Ridge model for ankh_base_embedding\n",
      "Finished training model for ankh_base_embedding. Time taken: 2.627450704574585 seconds\n",
      "Finished processing. Time taken: 40.15343999862671 seconds\n"
     ]
    }
   ],
   "source": [
    "enc = OneHotEncoder()\n",
    "one_hot_features = enc.fit_transform(df[['Assay', 'REGION_NOTES']]).toarray()\n",
    "fingerprint_results = {}  # Dictionary to store the results of each fingerprint\n",
    "variant_r2_scores = {}\n",
    "predictions_dict = {}\n",
    "\n",
    "\n",
    "def train_and_predict_model(X, y, model_type):\n",
    "    start_time_model = time.time()\n",
    "    if model_type == 'ankh_base_embedding':\n",
    "        print(\"Training Ridge model for ankh_base_embedding\")\n",
    "        model = Ridge()\n",
    "    else:\n",
    "        print(f\"Training HistGradientBoostingRegressor model for {model_type}\")\n",
    "        model = HistGradientBoostingRegressor()\n",
    "    predictions = cross_val_predict(model, X, y, cv=kf, n_jobs=-1)\n",
    "    end_time_model = time.time()\n",
    "    time_taken_model = end_time_model - start_time_model\n",
    "    print(f\"Finished training model for {model_type}. Time taken: {time_taken_model} seconds\")\n",
    "    return predictions\n",
    "\n",
    "kf = KFold(n_splits=5, shuffle=True, random_state=123)\n",
    "for variant in variants:\n",
    "    variant_r2_scores[variant] = {}\n",
    "\n",
    "start_time_subset = time.time()\n",
    "\n",
    "for fingerprint_name, fingerprint in fingerprints_filtered.items():\n",
    "    X = pd.DataFrame(fingerprint).loc[df.index]\n",
    "    X = pd.concat([X, pd.DataFrame(one_hot_features).loc[df.index]], axis=1)\n",
    "    y = df['pIC50']\n",
    "    predictions = train_and_predict_model(X, y, fingerprint_name)\n",
    "    predictions_dict[fingerprint_name] = predictions\n",
    "    fingerprint_results[fingerprint_name] = r2_score(y,predictions)  # Store the results in the dictionary\n",
    "    for variant in variants:\n",
    "        variant_df = df[df['Variants_of'] == variant]\n",
    "        y_true = variant_df['pIC50']\n",
    "        y_pred = pd.DataFrame(predictions, index=df.index).loc[variant_df.index]\n",
    "        variant_r2_scores[variant][fingerprint_name] = r2_score(y_true, y_pred)\n",
    "\n",
    "end_time_subset = time.time()\n",
    "time_taken_subset = end_time_subset - start_time_subset\n",
    "print(f\"Finished processing. Time taken: {time_taken_subset} seconds\")\n"
   ]
  },
  {
   "cell_type": "code",
   "execution_count": 25,
   "metadata": {},
   "outputs": [
    {
     "data": {
      "text/plain": [
       "{'atompair-count': 0.7555486004829163,\n",
       " 'erg': 0.7479860640974708,\n",
       " 'ankh_base_embedding': 0.7475686134581483,\n",
       " 'mean_embeddings_large': 0.744434056583875,\n",
       " 'avalon-count': 0.7289049132351113,\n",
       " 'fcfp-count': 0.7216412323635801,\n",
       " 'atompair': 0.7215049378404939,\n",
       " 'rdkit-count': 0.7201422333705675,\n",
       " 'ecfp-count': 0.7197040482368854,\n",
       " 'binary profile of physicochemical property': 0.7022586910356519,\n",
       " 'topological-count': 0.6971862322365004,\n",
       " 'estate': 0.6931181352659332,\n",
       " 'topological': 0.6869440909280372,\n",
       " 'one-hot-encoded-sequence': 0.6857660778191714,\n",
       " 'peptide_descriptors': 0.6839214004092842,\n",
       " 'avalon': 0.6494795378431328,\n",
       " 'secfp': 0.6405243047967196,\n",
       " 'ecfp': 0.6393152666077775,\n",
       " 'pattern': 0.6214749706101813,\n",
       " 'fcfp': 0.6174737802847448,\n",
       " 'rdkit': 0.5893495771125236,\n",
       " 'layered': 0.5883275349313508,\n",
       " 'maccs': 0.518314065542206,\n",
       " 'map4': 0.39648485554937385}"
      ]
     },
     "execution_count": 25,
     "metadata": {},
     "output_type": "execute_result"
    }
   ],
   "source": [
    "fingerprint_results = dict(sorted(fingerprint_results.items(), key=lambda item: item[1], reverse=True))\n",
    "fingerprint_results"
   ]
  },
  {
   "cell_type": "code",
   "execution_count": 54,
   "metadata": {},
   "outputs": [
    {
     "name": "stdout",
     "output_type": "stream",
     "text": [
      "atompair-count: 0.76\n",
      "erg: 0.75\n",
      "ankh_base_embedding: 0.75\n",
      "mean_embeddings_large: 0.74\n",
      "avalon-count: 0.73\n",
      "fcfp-count: 0.72\n",
      "atompair: 0.72\n",
      "rdkit-count: 0.72\n",
      "ecfp-count: 0.72\n",
      "binary profile of physicochemical property: 0.7\n",
      "topological-count: 0.7\n",
      "estate: 0.69\n",
      "topological: 0.69\n",
      "one-hot-encoded-sequence: 0.69\n",
      "peptide_descriptors: 0.68\n",
      "avalon: 0.65\n",
      "secfp: 0.64\n",
      "ecfp: 0.64\n",
      "pattern: 0.62\n",
      "fcfp: 0.62\n",
      "rdkit: 0.59\n",
      "layered: 0.59\n",
      "maccs: 0.52\n",
      "map4: 0.4\n"
     ]
    }
   ],
   "source": [
    "for fingerprint_name, r2_value in fingerprint_results.items():\n",
    "    print(f\"{fingerprint_name}: {round(r2_value,2)}\")"
   ]
  },
  {
   "cell_type": "code",
   "execution_count": null,
   "metadata": {},
   "outputs": [
    {
     "data": {
      "text/plain": [
       "{'atompair-count': 0.7713282708528858,\n",
       " 'mean_embeddings_large': 0.7561790175819262,\n",
       " 'ankh_base_embedding': 0.7548104203141552,\n",
       " 'erg': 0.7529567083023275,\n",
       " 'avalon-count': 0.7434874941775433,\n",
       " 'rdkit-count': 0.7357156161182916,\n",
       " 'atompair': 0.7347121355640724,\n",
       " 'ecfp-count': 0.7302001775949873,\n",
       " 'fcfp-count': 0.7280318865404167,\n",
       " 'topological-count': 0.7206112684363487,\n",
       " 'binary profile of physicochemical property': 0.717640337071934,\n",
       " 'estate': 0.7049121007794572,\n",
       " 'topological': 0.7001100584558153,\n",
       " 'peptide_descriptors': 0.6921989124327153,\n",
       " 'one-hot-encoded-sequence': 0.6914689127156851,\n",
       " 'avalon': 0.654947693755729,\n",
       " 'ecfp': 0.6433126134690843,\n",
       " 'secfp': 0.6419157909096964,\n",
       " 'pattern': 0.6370518706731327,\n",
       " 'fcfp': 0.6221165051971451,\n",
       " 'rdkit': 0.5995481882527592,\n",
       " 'layered': 0.5946549442042812,\n",
       " 'maccs': 0.5136941953214202,\n",
       " 'map4': 0.40258354903657}"
      ]
     },
     "execution_count": 15,
     "metadata": {},
     "output_type": "execute_result"
    }
   ],
   "source": [
    "#sort the results\n",
    "#fingerprint_results = dict(sorted(fingerprint_results.items(), key=lambda item: item[1], reverse=True))\n",
    "fingerprint_results"
   ]
  },
  {
   "cell_type": "code",
   "execution_count": 11,
   "metadata": {},
   "outputs": [
    {
     "name": "stdout",
     "output_type": "stream",
     "text": [
      "Ensemble of 1 fingerprints\n",
      "Fingeprints used: ['erg']\n",
      "R2 score: 0.75\n",
      "----------------------------------\n",
      "Ensemble of 2 fingerprints\n",
      "Fingeprints used: ['erg', 'atompair-count']\n",
      "R2 score: 0.77\n",
      "----------------------------------\n",
      "Ensemble of 3 fingerprints\n",
      "Fingeprints used: ['erg', 'atompair-count', 'ankh_base_embedding']\n",
      "R2 score: 0.79\n",
      "----------------------------------\n",
      "Ensemble of 4 fingerprints\n",
      "Fingeprints used: ['erg', 'atompair-count', 'ankh_base_embedding']\n",
      "R2 score: 0.79\n",
      "----------------------------------\n",
      "Ensemble of 5 fingerprints\n",
      "Fingeprints used: ['erg', 'atompair-count', 'ankh_base_embedding']\n",
      "R2 score: 0.79\n",
      "----------------------------------\n",
      "Ensemble of 6 fingerprints\n",
      "Fingeprints used: ['erg', 'atompair-count', 'ankh_base_embedding']\n",
      "R2 score: 0.79\n",
      "----------------------------------\n",
      "Ensemble of 7 fingerprints\n",
      "Fingeprints used: ['erg', 'atompair-count', 'ankh_base_embedding']\n",
      "R2 score: 0.79\n",
      "----------------------------------\n",
      "Ensemble of 8 fingerprints\n",
      "Fingeprints used: ['erg', 'atompair-count', 'ankh_base_embedding']\n",
      "R2 score: 0.79\n",
      "----------------------------------\n",
      "Ensemble of 9 fingerprints\n",
      "Fingeprints used: ['erg', 'atompair-count', 'ankh_base_embedding']\n",
      "R2 score: 0.79\n",
      "----------------------------------\n",
      "Ensemble of 10 fingerprints\n",
      "Fingeprints used: ['erg', 'atompair-count', 'ankh_base_embedding']\n",
      "R2 score: 0.79\n",
      "----------------------------------\n"
     ]
    }
   ],
   "source": [
    "#ensemble\n",
    "from sklearn.metrics import r2_score\n",
    "\n",
    "for i in range(1, 11):\n",
    "    embedding_predictions = []\n",
    "    y = df['pIC50']\n",
    "    for fingerprint_name in list(fingerprint_results.keys())[:i]:\n",
    "        embedding_predictions.append(predictions_dict[fingerprint_name])\n",
    "    mean_predictions = np.mean(embedding_predictions, axis=0)\n",
    "    print(f\"Ensemble of {i} fingerprints\")\n",
    "    print(f\"Fingeprints used: {list(fingerprint_results.keys())[:i]}\")\n",
    "    print(f\"R2 score: {round(r2_score(y, mean_predictions),2)}\")\n",
    "    print('----------------------------------')"
   ]
  },
  {
   "cell_type": "code",
   "execution_count": null,
   "metadata": {},
   "outputs": [],
   "source": [
    "#write the prediction from ['atompair-count', 'erg', 'ankh_base_embedding'] to csv , include the variant name\n",
    "\n",
    "predictions_df = df[['Variants_of', 'pIC50']]\n",
    "predictions_df['Ensemble'] = (predictions_dict['atompair-count'] + predictions_dict['erg'] + predictions_dict['ankh_base_embedding']) / 3\n",
    "predictions_df.to_csv('ensemble_predictions.csv', index=False)"
   ]
  },
  {
   "cell_type": "code",
   "execution_count": 53,
   "metadata": {},
   "outputs": [
    {
     "name": "stdout",
     "output_type": "stream",
     "text": [
      "Variant: GpTx-1\n",
      "Top 10 fingerprints: ['ankh_base_embedding', 'atompair-count', 'mean_embeddings_large', 'erg', 'fcfp-count', 'avalon-count', 'peptide_descriptors', 'ecfp-count', 'rdkit-count', 'estate']\n",
      "----------------------------------\n",
      "ankh_base_embedding: 0.8\n",
      "atompair-count: 0.77\n",
      "mean_embeddings_large: 0.77\n",
      "erg: 0.76\n",
      "fcfp-count: 0.75\n",
      "avalon-count: 0.75\n",
      "peptide_descriptors: 0.75\n",
      "ecfp-count: 0.74\n",
      "rdkit-count: 0.74\n",
      "estate: 0.73\n",
      "----------------------------------\n",
      "Variant: Protoxin II\n",
      "Top 10 fingerprints: ['erg', 'binary profile of physicochemical property', 'avalon-count', 'atompair-count', 'one-hot-encoded-sequence', 'ankh_base_embedding', 'mean_embeddings_large', 'rdkit-count', 'atompair', 'ecfp-count']\n",
      "----------------------------------\n",
      "erg: 0.69\n",
      "binary profile of physicochemical property: 0.68\n",
      "avalon-count: 0.67\n",
      "atompair-count: 0.67\n",
      "one-hot-encoded-sequence: 0.67\n",
      "ankh_base_embedding: 0.66\n",
      "mean_embeddings_large: 0.64\n",
      "rdkit-count: 0.64\n",
      "atompair: 0.62\n",
      "ecfp-count: 0.59\n",
      "----------------------------------\n",
      "Variant: JzTx-V\n",
      "Top 10 fingerprints: ['atompair-count', 'atompair', 'erg', 'ankh_base_embedding', 'mean_embeddings_large', 'fcfp-count', 'ecfp-count', 'topological', 'avalon-count', 'topological-count']\n",
      "----------------------------------\n",
      "atompair-count: 0.68\n",
      "atompair: 0.68\n",
      "erg: 0.66\n",
      "ankh_base_embedding: 0.64\n",
      "mean_embeddings_large: 0.62\n",
      "fcfp-count: 0.6\n",
      "ecfp-count: 0.59\n",
      "topological: 0.58\n",
      "avalon-count: 0.56\n",
      "topological-count: 0.56\n",
      "----------------------------------\n",
      "Variant: Huwentoxin-IV\n",
      "Top 10 fingerprints: ['topological-count', 'peptide_descriptors', 'atompair-count', 'topological', 'rdkit-count', 'ecfp-count', 'mean_embeddings_large', 'one-hot-encoded-sequence', 'fcfp-count', 'avalon-count']\n",
      "----------------------------------\n",
      "topological-count: 0.25\n",
      "peptide_descriptors: 0.21\n",
      "atompair-count: 0.21\n",
      "topological: 0.2\n",
      "rdkit-count: 0.2\n",
      "ecfp-count: 0.2\n",
      "mean_embeddings_large: 0.2\n",
      "one-hot-encoded-sequence: 0.2\n",
      "fcfp-count: 0.19\n",
      "avalon-count: 0.19\n",
      "----------------------------------\n"
     ]
    }
   ],
   "source": [
    "variant_r2_scores\n",
    "#for each variant , print the top 5 fingerprints\n",
    "for variant in variants:\n",
    "    print(f\"Variant: {variant}\")\n",
    "    #first sort the fingerprints by r2 score\n",
    "    variant_r2_scores[variant] = dict(sorted(variant_r2_scores[variant].items(), key=lambda item: item[1], reverse=True))\n",
    "    print(f\"Top 10 fingerprints: {list(variant_r2_scores[variant].keys())[:10]}\")\n",
    "    # print combined fingerprint name and r2 score\n",
    "    print('----------------------------------')\n",
    "    i = 0\n",
    "    for fingerprint_name, r2_score in variant_r2_scores[variant].items():\n",
    "            print(f\"{fingerprint_name}: {round(r2_score, 2)}\")\n",
    "            i += 1\n",
    "            if i == 10:\n",
    "                i = 0\n",
    "                break\n",
    "\n",
    "    print('----------------------------------')"
   ]
  },
  {
   "cell_type": "code",
   "execution_count": null,
   "metadata": {},
   "outputs": [
    {
     "data": {
      "text/plain": [
       "{'GpTx-1': {'map4': 0.49806559984876486,\n",
       "  'erg': 0.7887046329531151,\n",
       "  'atompair-count': 0.7915542485731139,\n",
       "  'ecfp': 0.6751582784732595,\n",
       "  'layered': 0.6058765378935222,\n",
       "  'topological': 0.7247965309175233,\n",
       "  'rdkit': 0.6215659941777497,\n",
       "  'binary profile of physicochemical property': 0.7337567308481192,\n",
       "  'one-hot-encoded-sequence': 0.6821196528097901,\n",
       "  'peptide_descriptors': 0.7567251457637006,\n",
       "  'ankh_base_embedding': 0.8087226740039888,\n",
       "  'mean_embeddings_large': 0.7948957787103764,\n",
       "  'maccs': 0.5509728888870917,\n",
       "  'avalon': 0.6864672079554562,\n",
       "  'fcfp': 0.659346396776398,\n",
       "  'atompair': 0.7533630995108737,\n",
       "  'pattern': 0.671727749228402,\n",
       "  'secfp': 0.663560285187519,\n",
       "  'estate': 0.7452512202932556,\n",
       "  'avalon-count': 0.7728941252285998,\n",
       "  'rdkit-count': 0.7632483600226732,\n",
       "  'ecfp-count': 0.7627450062646608,\n",
       "  'fcfp-count': 0.7654365433339878,\n",
       "  'topological-count': 0.7508705506788922},\n",
       " 'Protoxin II': {'map4': -0.06120071940928162,\n",
       "  'erg': 0.6939563982139827,\n",
       "  'atompair-count': 0.7086002942151086,\n",
       "  'ecfp': 0.4184764887920105,\n",
       "  'layered': 0.41513718334169936,\n",
       "  'topological': 0.5262471301155882,\n",
       "  'rdkit': 0.37347175968631896,\n",
       "  'binary profile of physicochemical property': 0.6900530743219517,\n",
       "  'one-hot-encoded-sequence': 0.6656512885358468,\n",
       "  'peptide_descriptors': 0.4974540938197649,\n",
       "  'ankh_base_embedding': 0.7005100991525637,\n",
       "  'mean_embeddings_large': 0.6665231030343728,\n",
       "  'maccs': 0.24908050914635482,\n",
       "  'avalon': 0.567277446145577,\n",
       "  'fcfp': 0.4066242607281484,\n",
       "  'atompair': 0.627513561573972,\n",
       "  'pattern': 0.45247360896003697,\n",
       "  'secfp': 0.5483923711096947,\n",
       "  'estate': 0.5363667592959102,\n",
       "  'avalon-count': 0.6570382638508001,\n",
       "  'rdkit-count': 0.6522467703926786,\n",
       "  'ecfp-count': 0.5943101292267887,\n",
       "  'fcfp-count': 0.5677845672360485,\n",
       "  'topological-count': 0.5660709418714239},\n",
       " 'JzTx-V': {'map4': -0.02495331711505222,\n",
       "  'erg': 0.6166902742815508,\n",
       "  'atompair-count': 0.6771823906820953,\n",
       "  'ecfp': 0.4826503377018121,\n",
       "  'layered': 0.36278942671719905,\n",
       "  'topological': 0.5688512685381695,\n",
       "  'rdkit': 0.3735218245008325,\n",
       "  'binary profile of physicochemical property': 0.5354140726890955,\n",
       "  'one-hot-encoded-sequence': 0.5112447038736108,\n",
       "  'peptide_descriptors': 0.3868125039945757,\n",
       "  'ankh_base_embedding': 0.6184965332823879,\n",
       "  'mean_embeddings_large': 0.5874232355648195,\n",
       "  'maccs': 0.14177797486231802,\n",
       "  'avalon': 0.36240664343053963,\n",
       "  'fcfp': 0.3855970408455849,\n",
       "  'atompair': 0.6557512423104606,\n",
       "  'pattern': 0.4150654651608021,\n",
       "  'secfp': 0.3984914679343803,\n",
       "  'estate': 0.5116533222406898,\n",
       "  'avalon-count': 0.5671786348410665,\n",
       "  'rdkit-count': 0.5450469823531627,\n",
       "  'ecfp-count': 0.5661683897683922,\n",
       "  'fcfp-count': 0.5773545535052509,\n",
       "  'topological-count': 0.5596066998759287},\n",
       " 'Huwentoxin-IV': {'map4': -0.4422054699842777,\n",
       "  'erg': 0.12584863568180604,\n",
       "  'atompair-count': 0.22859624050946536,\n",
       "  'ecfp': 0.06528009116929834,\n",
       "  'layered': 0.03346416500594629,\n",
       "  'topological': 0.21471138189240146,\n",
       "  'rdkit': 0.059056654434551215,\n",
       "  'binary profile of physicochemical property': 0.15413334377585985,\n",
       "  'one-hot-encoded-sequence': 0.21155047033063146,\n",
       "  'peptide_descriptors': 0.21099178758093795,\n",
       "  'ankh_base_embedding': -0.05024874849970962,\n",
       "  'mean_embeddings_large': 0.19310634594155218,\n",
       "  'maccs': -0.05169969800569141,\n",
       "  'avalon': 0.10402274489015484,\n",
       "  'fcfp': 0.06462186150870852,\n",
       "  'atompair': 0.1899336498017341,\n",
       "  'pattern': 0.0471194232164045,\n",
       "  'secfp': 0.03403185020523547,\n",
       "  'estate': 0.1926264479595764,\n",
       "  'avalon-count': 0.24159613501786759,\n",
       "  'rdkit-count': 0.23564525982268203,\n",
       "  'ecfp-count': 0.2287161146401011,\n",
       "  'fcfp-count': 0.23388152230510062,\n",
       "  'topological-count': 0.2747173196391939}}"
      ]
     },
     "execution_count": 10,
     "metadata": {},
     "output_type": "execute_result"
    }
   ],
   "source": [
    "variant_r2_scores"
   ]
  },
  {
   "cell_type": "code",
   "execution_count": null,
   "metadata": {},
   "outputs": [
    {
     "name": "stdout",
     "output_type": "stream",
     "text": [
      "0.7448399421053377\n",
      "______________________\n",
      "0.542264851070513\n",
      "______________________\n",
      "0.5592204418332176\n",
      "______________________\n",
      "0.20859755434589955\n",
      "______________________\n"
     ]
    }
   ],
   "source": [
    "for variant in variant_r2_scores.keys():\n",
    "    results = variant_r2_scores[variant]\n",
    "    print(results)\n",
    "    print(\"______________________\")"
   ]
  },
  {
   "cell_type": "code",
   "execution_count": null,
   "metadata": {},
   "outputs": [],
   "source": [
    "with open('fingerprint_results.pickle', 'wb') as f:\n",
    "    pickle.dump(fingerprint_results, f)"
   ]
  }
 ],
 "metadata": {
  "kernelspec": {
   "display_name": "azureml_py310_sdkv2",
   "language": "python",
   "name": "python3"
  },
  "language_info": {
   "codemirror_mode": {
    "name": "ipython",
    "version": 3
   },
   "file_extension": ".py",
   "mimetype": "text/x-python",
   "name": "python",
   "nbconvert_exporter": "python",
   "pygments_lexer": "ipython3",
   "version": "3.10.11"
  },
  "orig_nbformat": 4
 },
 "nbformat": 4,
 "nbformat_minor": 2
}
